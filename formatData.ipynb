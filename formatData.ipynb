{
 "cells": [
  {
   "cell_type": "code",
   "execution_count": 1,
   "metadata": {
    "collapsed": true
   },
   "outputs": [],
   "source": [
    "import numpy as np\n",
    "from scipy.sparse import csr_matrix"
   ]
  },
  {
   "cell_type": "code",
   "execution_count": 2,
   "metadata": {
    "collapsed": true
   },
   "outputs": [],
   "source": [
    "def definition(inputFile):\n",
    "    hashMap = {}\n",
    "    with open(inputFile) as f:\n",
    "        content = f.read().splitlines()\n",
    "\n",
    "    for i in xrange(len(content)):\n",
    "        (index, definition) = content[i].split('\\t')\n",
    "        hashMap[index] = definition\n",
    "        \n",
    "    return (hashMap, list(sorted(hashMap.keys())))"
   ]
  },
  {
   "cell_type": "code",
   "execution_count": 3,
   "metadata": {
    "collapsed": false
   },
   "outputs": [],
   "source": [
    "(authors, aIndices) = definition('author.txt')\n",
    "(papers, pIndices) = definition('paper.txt')\n",
    "(terms, tIndices) = definition('term.txt')\n",
    "(venues, vIndices) = definition('venue.txt')"
   ]
  },
  {
   "cell_type": "code",
   "execution_count": 4,
   "metadata": {
    "collapsed": false
   },
   "outputs": [],
   "source": [
    "def formMatrices(inputFile):\n",
    "    # need to create M_AP, M_PV, M_PT\n",
    "    ap_row = []\n",
    "    ap_col = []\n",
    "    pv_row = []\n",
    "    pv_col = []\n",
    "    pt_row = []\n",
    "    pt_col = []\n",
    "\n",
    "    with open(inputFile) as f:\n",
    "        content = f.read().splitlines()\n",
    "\n",
    "    for i in xrange(len(content)):\n",
    "        (paper, item, _) = content[i].split('\\t')\n",
    "\n",
    "        if (int(item) <= 13575): # this is a term => update M_PT\n",
    "            pt_row.append(pIndices.index(paper))\n",
    "            pt_col.append(tIndices.index(item))\n",
    "        elif (42145 <= int(item) and int(item) <= 42164): # venue => update M_PV\n",
    "            pv_row.append(pIndices.index(paper))\n",
    "            pv_col.append(vIndices.index(item))\n",
    "        else: # author => update M_AP\n",
    "            ap_row.append(aIndices.index(item))\n",
    "            ap_col.append(pIndices.index(paper))\n",
    "\n",
    "    AP = csr_matrix((np.ones(len(ap_row)), (ap_row, ap_col)), dtype=np.float64)\n",
    "    PT = csr_matrix((np.ones(len(pt_row)), (pt_row, pt_col)), dtype=np.float64)\n",
    "    PV = csr_matrix((np.ones(len(pv_row)), (pv_row, pv_col)), dtype=np.float64)\n",
    "    \n",
    "    return (AP*np.transpose(AP),\n",
    "            AP*PT*np.transpose(PT)*np.transpose(AP),\n",
    "            AP*PV*np.transpose(PV)*np.transpose(AP))"
   ]
  },
  {
   "cell_type": "code",
   "execution_count": 5,
   "metadata": {
    "collapsed": false
   },
   "outputs": [],
   "source": [
    "(APA, APTPA, APVPA) = formMatrices('relation.txt')"
   ]
  },
  {
   "cell_type": "code",
   "execution_count": 6,
   "metadata": {
    "collapsed": false
   },
   "outputs": [],
   "source": [
    "def write2file(name, matrix):\n",
    "    with open(name + '.txt', 'w') as f:\n",
    "        (row, col) = matrix.nonzero()\n",
    "        for i in xrange(len(row)):\n",
    "            f.write(row[i].__str__() + '\\t' + col[i].__str__() + '\\t' + matrix[row[i], col[i]].__str__() + '\\n')"
   ]
  },
  {
   "cell_type": "code",
   "execution_count": null,
   "metadata": {
    "collapsed": false
   },
   "outputs": [],
   "source": [
    "write2file('APTPA', APTPA)"
   ]
  },
  {
   "cell_type": "code",
   "execution_count": null,
   "metadata": {
    "collapsed": false
   },
   "outputs": [],
   "source": [
    "write2file('APVPA', APVPA)"
   ]
  },
  {
   "cell_type": "code",
   "execution_count": 7,
   "metadata": {
    "collapsed": false
   },
   "outputs": [
    {
     "data": {
      "text/plain": [
       "<5000x5000 sparse matrix of type '<type 'numpy.float64'>'\n",
       "\twith 24690038 stored elements in Compressed Sparse Row format>"
      ]
     },
     "execution_count": 7,
     "metadata": {},
     "output_type": "execute_result"
    }
   ],
   "source": [
    "APTPA"
   ]
  },
  {
   "cell_type": "code",
   "execution_count": 8,
   "metadata": {
    "collapsed": false
   },
   "outputs": [
    {
     "data": {
      "text/plain": [
       "<5000x5000 sparse matrix of type '<type 'numpy.float64'>'\n",
       "\twith 11243494 stored elements in Compressed Sparse Row format>"
      ]
     },
     "execution_count": 8,
     "metadata": {},
     "output_type": "execute_result"
    }
   ],
   "source": [
    "APVPA"
   ]
  },
  {
   "cell_type": "code",
   "execution_count": null,
   "metadata": {
    "collapsed": true
   },
   "outputs": [],
   "source": []
  }
 ],
 "metadata": {
  "kernelspec": {
   "display_name": "Python 2",
   "language": "python",
   "name": "python2"
  },
  "language_info": {
   "codemirror_mode": {
    "name": "ipython",
    "version": 2
   },
   "file_extension": ".py",
   "mimetype": "text/x-python",
   "name": "python",
   "nbconvert_exporter": "python",
   "pygments_lexer": "ipython2",
   "version": "2.7.11"
  }
 },
 "nbformat": 4,
 "nbformat_minor": 0
}
