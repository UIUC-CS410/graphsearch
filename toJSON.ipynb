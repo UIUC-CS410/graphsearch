{
 "cells": [
  {
   "cell_type": "code",
   "execution_count": 1,
   "metadata": {
    "collapsed": false
   },
   "outputs": [],
   "source": [
    "import random\n",
    "\n",
    "conn = {}\n",
    "items = {'author': set([]), 'paper': set([]), 'term': set([]), 'venue': set([])}\n",
    "\n",
    "with open('relation.txt') as f:\n",
    "    content = f.read().splitlines()\n",
    "\n",
    "for i in xrange(len(content)):\n",
    "    a2b = content[i].split('\\t')\n",
    "    a = int(a2b[0])\n",
    "    b = int(a2b[1])\n",
    "    \n",
    "    # 5000 authors\n",
    "    # 13245 terms\n",
    "    # 28569 papers\n",
    "    # 20 venues\n",
    "    # we want around 300 authors (6%)\n",
    "    # 900 papers (2.5%), 300 terms (2%), and all venues\n",
    "    if int(b) < 13576:\n",
    "        if random.random() < 0.03/10:\n",
    "            items['term'].add(b)\n",
    "            items['paper'].add(a)\n",
    "            if (a not in conn.keys()):\n",
    "                conn[a] = [b]\n",
    "            else:\n",
    "                conn[a].append(b)\n",
    "    elif int(b) < 42145:\n",
    "        continue\n",
    "    elif int(b) < 42165:\n",
    "        if random.random() < 0.025/10:\n",
    "            items['venue'].add(b)\n",
    "            items['paper'].add(a)\n",
    "            if (a not in conn.keys()):\n",
    "                conn[a] = [b]\n",
    "            else:\n",
    "                conn[a].append(b)\n",
    "    else:\n",
    "        if random.random() < 0.08/12:\n",
    "            items['paper'].add(a)\n",
    "            items['author'].add(b)\n",
    "            if (a not in conn.keys()):\n",
    "                conn[a] = [b]\n",
    "            else:\n",
    "                conn[a].append(b)"
   ]
  },
  {
   "cell_type": "code",
   "execution_count": 268,
   "metadata": {
    "collapsed": false
   },
   "outputs": [],
   "source": [
    "#with open(\"links.json\", 'w') as f:\n",
    "#    f.write(json)"
   ]
  },
  {
   "cell_type": "code",
   "execution_count": null,
   "metadata": {
    "collapsed": false
   },
   "outputs": [],
   "source": []
  },
  {
   "cell_type": "code",
   "execution_count": 2,
   "metadata": {
    "collapsed": false
   },
   "outputs": [
    {
     "data": {
      "text/plain": [
       "1781"
      ]
     },
     "execution_count": 2,
     "metadata": {},
     "output_type": "execute_result"
    }
   ],
   "source": [
    "len(items['author'])+len(items['paper'])+len(items['venue'])+len(items['term'])"
   ]
  },
  {
   "cell_type": "code",
   "execution_count": 3,
   "metadata": {
    "collapsed": false
   },
   "outputs": [
    {
     "data": {
      "text/plain": [
       "289"
      ]
     },
     "execution_count": 3,
     "metadata": {},
     "output_type": "execute_result"
    }
   ],
   "source": [
    "len(items['author'])"
   ]
  },
  {
   "cell_type": "code",
   "execution_count": 4,
   "metadata": {
    "collapsed": false
   },
   "outputs": [
    {
     "data": {
      "text/plain": [
       "1071"
      ]
     },
     "execution_count": 4,
     "metadata": {},
     "output_type": "execute_result"
    }
   ],
   "source": [
    "len(items['paper'])"
   ]
  },
  {
   "cell_type": "code",
   "execution_count": 5,
   "metadata": {
    "collapsed": false
   },
   "outputs": [
    {
     "data": {
      "text/plain": [
       "18"
      ]
     },
     "execution_count": 5,
     "metadata": {},
     "output_type": "execute_result"
    }
   ],
   "source": [
    "len(items['venue'])"
   ]
  },
  {
   "cell_type": "code",
   "execution_count": 6,
   "metadata": {
    "collapsed": false
   },
   "outputs": [
    {
     "data": {
      "text/plain": [
       "403"
      ]
     },
     "execution_count": 6,
     "metadata": {},
     "output_type": "execute_result"
    }
   ],
   "source": [
    "len(items['term'])"
   ]
  },
  {
   "cell_type": "code",
   "execution_count": null,
   "metadata": {
    "collapsed": false
   },
   "outputs": [],
   "source": []
  },
  {
   "cell_type": "code",
   "execution_count": null,
   "metadata": {
    "collapsed": true
   },
   "outputs": [],
   "source": []
  },
  {
   "cell_type": "code",
   "execution_count": null,
   "metadata": {
    "collapsed": false
   },
   "outputs": [],
   "source": []
  },
  {
   "cell_type": "code",
   "execution_count": 10,
   "metadata": {
    "collapsed": false
   },
   "outputs": [],
   "source": [
    "json = \"var edges = [\"\n",
    "for f in conn.keys():\n",
    "    for t in conn[f]:\n",
    "        json += \"\\n\\t{from: \" + f.__str__() + \", to: \" + t.__str__() + \"},\"\n",
    "\n",
    "json = json.rstrip(',')\n",
    "json += \"\\n];\\n\\n\"\n",
    "\n",
    "json += \"var nodes = [\"\n",
    "for v in items['venue']:\n",
    "    json += \"\\n\\t{id: \" + v.__str__() + \", label: 'venue\" + v.__str__() + \"'},\"\n",
    "for t in items['term']:\n",
    "    json += \"\\n\\t{id: \" + t.__str__() + \", label: 'term\" + t.__str__() + \"'},\"\n",
    "for a in items['author']:\n",
    "    json += \"\\n\\t{id: \" + a.__str__() + \", label: 'author\" + a.__str__() + \"'},\"\n",
    "for p in items['paper']:\n",
    "    json += \"\\n\\t{id: \" + p.__str__() + \", label: 'paper\" + p.__str__() + \"'},\"\n",
    "json = json.rstrip(',')\n",
    "json += \"\\n];\""
   ]
  },
  {
   "cell_type": "code",
   "execution_count": null,
   "metadata": {
    "collapsed": false
   },
   "outputs": [],
   "source": []
  },
  {
   "cell_type": "code",
   "execution_count": 11,
   "metadata": {
    "collapsed": false
   },
   "outputs": [],
   "source": [
    "open('network.js', 'w').write(json)"
   ]
  },
  {
   "cell_type": "code",
   "execution_count": null,
   "metadata": {
    "collapsed": false
   },
   "outputs": [],
   "source": []
  },
  {
   "cell_type": "code",
   "execution_count": null,
   "metadata": {
    "collapsed": true
   },
   "outputs": [],
   "source": []
  }
 ],
 "metadata": {
  "kernelspec": {
   "display_name": "Python 2",
   "language": "python",
   "name": "python2"
  },
  "language_info": {
   "codemirror_mode": {
    "name": "ipython",
    "version": 2
   },
   "file_extension": ".py",
   "mimetype": "text/x-python",
   "name": "python",
   "nbconvert_exporter": "python",
   "pygments_lexer": "ipython2",
   "version": "2.7.11"
  }
 },
 "nbformat": 4,
 "nbformat_minor": 0
}
